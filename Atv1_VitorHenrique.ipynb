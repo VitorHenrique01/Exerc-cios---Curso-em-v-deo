{
  "nbformat": 4,
  "nbformat_minor": 0,
  "metadata": {
    "colab": {
      "provenance": [],
      "authorship_tag": "ABX9TyPrJ4KAqiCs+KAc3QnAlOvk",
      "include_colab_link": true
    },
    "kernelspec": {
      "name": "python3",
      "display_name": "Python 3"
    },
    "language_info": {
      "name": "python"
    }
  },
  "cells": [
    {
      "cell_type": "markdown",
      "metadata": {
        "id": "view-in-github",
        "colab_type": "text"
      },
      "source": [
        "<a href=\"https://colab.research.google.com/github/VitorHenrique01/Exerc-cios---Curso-em-v-deo/blob/main/Atv1_VitorHenrique.ipynb\" target=\"_parent\"><img src=\"https://colab.research.google.com/assets/colab-badge.svg\" alt=\"Open In Colab\"/></a>"
      ]
    },
    {
      "cell_type": "code",
      "execution_count": null,
      "metadata": {
        "colab": {
          "base_uri": "https://localhost:8080/"
        },
        "id": "PVtOQa61nmuk",
        "outputId": "b3f01f21-3ced-4bde-a06e-d307d229e2e8"
      },
      "outputs": [
        {
          "output_type": "stream",
          "name": "stdout",
          "text": [
            "Hello World\n"
          ]
        }
      ],
      "source": [
        "print(\"Hello World\")\n",
        "\n"
      ]
    },
    {
      "cell_type": "code",
      "source": [
        "nome=str(input(\"Digite seu nome: \"))\n",
        "print(\"O nome digitado foi: \", nome)"
      ],
      "metadata": {
        "colab": {
          "base_uri": "https://localhost:8080/",
          "height": 304
        },
        "id": "SW8I9moBsNj9",
        "outputId": "3954adf0-53d3-4f11-de30-08118be7f5d9"
      },
      "execution_count": null,
      "outputs": [
        {
          "output_type": "error",
          "ename": "KeyboardInterrupt",
          "evalue": "Interrupted by user",
          "traceback": [
            "\u001b[0;31m---------------------------------------------------------------------------\u001b[0m",
            "\u001b[0;31mKeyboardInterrupt\u001b[0m                         Traceback (most recent call last)",
            "\u001b[0;32m/tmp/ipython-input-469215403.py\u001b[0m in \u001b[0;36m<cell line: 0>\u001b[0;34m()\u001b[0m\n\u001b[0;32m----> 1\u001b[0;31m \u001b[0mnome\u001b[0m\u001b[0;34m=\u001b[0m\u001b[0mstr\u001b[0m\u001b[0;34m(\u001b[0m\u001b[0minput\u001b[0m\u001b[0;34m(\u001b[0m\u001b[0;34m\"Digite seu nome: \"\u001b[0m\u001b[0;34m)\u001b[0m\u001b[0;34m)\u001b[0m\u001b[0;34m\u001b[0m\u001b[0;34m\u001b[0m\u001b[0m\n\u001b[0m\u001b[1;32m      2\u001b[0m \u001b[0mprint\u001b[0m\u001b[0;34m(\u001b[0m\u001b[0;34m\"O nome digitado foi: \"\u001b[0m\u001b[0;34m,\u001b[0m \u001b[0mnome\u001b[0m\u001b[0;34m)\u001b[0m\u001b[0;34m\u001b[0m\u001b[0;34m\u001b[0m\u001b[0m\n",
            "\u001b[0;32m/usr/local/lib/python3.12/dist-packages/ipykernel/kernelbase.py\u001b[0m in \u001b[0;36mraw_input\u001b[0;34m(self, prompt)\u001b[0m\n\u001b[1;32m   1175\u001b[0m                 \u001b[0;34m\"raw_input was called, but this frontend does not support input requests.\"\u001b[0m\u001b[0;34m\u001b[0m\u001b[0;34m\u001b[0m\u001b[0m\n\u001b[1;32m   1176\u001b[0m             )\n\u001b[0;32m-> 1177\u001b[0;31m         return self._input_request(\n\u001b[0m\u001b[1;32m   1178\u001b[0m             \u001b[0mstr\u001b[0m\u001b[0;34m(\u001b[0m\u001b[0mprompt\u001b[0m\u001b[0;34m)\u001b[0m\u001b[0;34m,\u001b[0m\u001b[0;34m\u001b[0m\u001b[0;34m\u001b[0m\u001b[0m\n\u001b[1;32m   1179\u001b[0m             \u001b[0mself\u001b[0m\u001b[0;34m.\u001b[0m\u001b[0m_parent_ident\u001b[0m\u001b[0;34m[\u001b[0m\u001b[0;34m\"shell\"\u001b[0m\u001b[0;34m]\u001b[0m\u001b[0;34m,\u001b[0m\u001b[0;34m\u001b[0m\u001b[0;34m\u001b[0m\u001b[0m\n",
            "\u001b[0;32m/usr/local/lib/python3.12/dist-packages/ipykernel/kernelbase.py\u001b[0m in \u001b[0;36m_input_request\u001b[0;34m(self, prompt, ident, parent, password)\u001b[0m\n\u001b[1;32m   1217\u001b[0m             \u001b[0;32mexcept\u001b[0m \u001b[0mKeyboardInterrupt\u001b[0m\u001b[0;34m:\u001b[0m\u001b[0;34m\u001b[0m\u001b[0;34m\u001b[0m\u001b[0m\n\u001b[1;32m   1218\u001b[0m                 \u001b[0;31m# re-raise KeyboardInterrupt, to truncate traceback\u001b[0m\u001b[0;34m\u001b[0m\u001b[0;34m\u001b[0m\u001b[0m\n\u001b[0;32m-> 1219\u001b[0;31m                 \u001b[0;32mraise\u001b[0m \u001b[0mKeyboardInterrupt\u001b[0m\u001b[0;34m(\u001b[0m\u001b[0;34m\"Interrupted by user\"\u001b[0m\u001b[0;34m)\u001b[0m \u001b[0;32mfrom\u001b[0m \u001b[0;32mNone\u001b[0m\u001b[0;34m\u001b[0m\u001b[0;34m\u001b[0m\u001b[0m\n\u001b[0m\u001b[1;32m   1220\u001b[0m             \u001b[0;32mexcept\u001b[0m \u001b[0mException\u001b[0m\u001b[0;34m:\u001b[0m\u001b[0;34m\u001b[0m\u001b[0;34m\u001b[0m\u001b[0m\n\u001b[1;32m   1221\u001b[0m                 \u001b[0mself\u001b[0m\u001b[0;34m.\u001b[0m\u001b[0mlog\u001b[0m\u001b[0;34m.\u001b[0m\u001b[0mwarning\u001b[0m\u001b[0;34m(\u001b[0m\u001b[0;34m\"Invalid Message:\"\u001b[0m\u001b[0;34m,\u001b[0m \u001b[0mexc_info\u001b[0m\u001b[0;34m=\u001b[0m\u001b[0;32mTrue\u001b[0m\u001b[0;34m)\u001b[0m\u001b[0;34m\u001b[0m\u001b[0;34m\u001b[0m\u001b[0m\n",
            "\u001b[0;31mKeyboardInterrupt\u001b[0m: Interrupted by user"
          ]
        }
      ]
    },
    {
      "cell_type": "markdown",
      "source": [
        "Nome: (Digite seu nome)\n",
        "\n",
        "Disciplina: (Desenvolvimento de sites web)\n",
        "\n",
        "![download.jpg](data:image/jpeg;base64,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)"
      ],
      "metadata": {
        "id": "WlMxCcQTqeE4"
      }
    },
    {
      "cell_type": "code",
      "source": [
        "# 1. Escreva um programa que apresente na tela a frase: \"Meu primeiro programa!!!\"\n",
        "print(\"Meu primeiro programa !!!\")"
      ],
      "metadata": {
        "colab": {
          "base_uri": "https://localhost:8080/"
        },
        "id": "wTSACUP0peK5",
        "outputId": "ae1a9864-f3cd-4c79-decc-73dcbc9aaa9f"
      },
      "execution_count": null,
      "outputs": [
        {
          "output_type": "stream",
          "name": "stdout",
          "text": [
            "Meu primeiro programa !!!\n"
          ]
        }
      ]
    },
    {
      "cell_type": "markdown",
      "source": [],
      "metadata": {
        "id": "lba9Q7M5qcli"
      }
    },
    {
      "cell_type": "code",
      "source": [
        "# 2. Escreva um programa que solicite ao usuário um número inteiro e ao final apresente na tela\n",
        "#    o número informado pelo usuário do programa\n",
        "\n",
        "\n",
        "numero = int(input(\"Digite um numero inteiro: \"))\n",
        "print(numero)\n"
      ],
      "metadata": {
        "colab": {
          "base_uri": "https://localhost:8080/"
        },
        "id": "AFrrqF-bqELa",
        "outputId": "ac8ae10b-b9cc-4a23-88c6-dc35f3474e94"
      },
      "execution_count": null,
      "outputs": [
        {
          "output_type": "stream",
          "name": "stdout",
          "text": [
            "Digite um numero inteiro: 25\n",
            "25\n"
          ]
        }
      ]
    },
    {
      "cell_type": "code",
      "source": [
        "# 3. Escreva um programa que solicite ao usuário um número inteiro e ao final apresente na tela\n",
        "#    o número informado da seguinte forma: \"Foi informado o valor: X\"\n",
        "\n",
        "numero = int(input(\"Digite um numero inteiro: \"))\n",
        "print(\"Foi informado o valor: \", numero)"
      ],
      "metadata": {
        "colab": {
          "base_uri": "https://localhost:8080/"
        },
        "id": "0FBcPlv2q_so",
        "outputId": "51ea6137-3ec5-46a0-fda8-803e2a735b81"
      },
      "execution_count": null,
      "outputs": [
        {
          "output_type": "stream",
          "name": "stdout",
          "text": [
            "Digite um numero inteiro: 25\n",
            "Foi informado o valor:  25\n"
          ]
        }
      ]
    },
    {
      "cell_type": "code",
      "source": [
        "# 4. Escreva um programa que solicite ao usuário dois números inteiros e ao final apresente na\n",
        "#    tela os dois números informados da seguinte forma: \"Voce informou os numeros X e Y\"\n",
        "\n",
        "numero1 = int(input(\"Digite o 1° valor: \"))\n",
        "numero2 = int(input(\"Digite o 2° valor: \"))\n",
        "\n",
        "print(\"Você inforou o\", numero1, \" e o \", numero2)\n"
      ],
      "metadata": {
        "colab": {
          "base_uri": "https://localhost:8080/"
        },
        "id": "IxrNuYD5rH3R",
        "outputId": "47bd4ab3-ec8a-45b4-c1a7-307b89726ab1"
      },
      "execution_count": null,
      "outputs": [
        {
          "output_type": "stream",
          "name": "stdout",
          "text": [
            "Digite o 1° valor: 10\n",
            "Digite o 2° valor: 20\n",
            "Você inforou o 10  e o  20\n"
          ]
        }
      ]
    },
    {
      "cell_type": "code",
      "source": [
        "# 5. Escreva um programa que solicite ao usuário um número real e ao final apresente na tela o\n",
        "#    número informado formatado com duas casas decimais da seguinte forma: \"Voce informou\n",
        "#    o numero X.YY\"\n",
        "\n",
        "numero = float(input(\"Digite um numero real: \"))\n",
        "print(f\"O numero digitado foi: {numero:.2f}\")\n"
      ],
      "metadata": {
        "colab": {
          "base_uri": "https://localhost:8080/"
        },
        "id": "tO0qz84WrvF1",
        "outputId": "711a4d38-1128-4656-81ed-e4537d3e1eb4"
      },
      "execution_count": null,
      "outputs": [
        {
          "output_type": "stream",
          "name": "stdout",
          "text": [
            "Digite um numero real: 354.2\n",
            "O numero digitado foi: 354.20\n"
          ]
        }
      ]
    },
    {
      "cell_type": "code",
      "source": [
        "# 6. Escreva um programa que solicite ao usuário a temperatura em graus Celsius e ao final\n",
        "#    apresente a temperatura correspondente em graus Farenheit. F = Celsius * 1.8 + 32\n",
        "\n",
        "Celsius = float(input(\"Digite uma temperatura em Celsius: \"))\n",
        "Farenheit = Celsius * 1.8 + 32\n",
        "print(\"A temperatura em Farenheit é: \", Farenheit)\n"
      ],
      "metadata": {
        "colab": {
          "base_uri": "https://localhost:8080/"
        },
        "id": "GUzq4zrlshIK",
        "outputId": "dfc8a879-7535-477a-ea0c-98724f4ddbd4"
      },
      "execution_count": null,
      "outputs": [
        {
          "output_type": "stream",
          "name": "stdout",
          "text": [
            "Digite uma temperatura em Celsius25\n",
            "A temperatura em Farenheit é:  77.0\n"
          ]
        }
      ]
    },
    {
      "cell_type": "code",
      "source": [
        "# 7. Escreva um programa que solicite ao usuário um número inteiro e um número real e ao final\n",
        "#    apresente na tela os dois números informados formatando com duas casas decimais\n",
        "#    somente o número real da seguinte forma: \"Voce informou os numeros N e X.YY\"\n",
        "\n",
        "inteiro = int(input(\"Digite um numero inteiro: \"))\n",
        "real = float(input(\"Digite um numero real: \"))\n",
        "print(f\"Os numeros digitados foram: {inteiro} e {real:.2f} \")"
      ],
      "metadata": {
        "colab": {
          "base_uri": "https://localhost:8080/"
        },
        "id": "UsBmTDfCtAHe",
        "outputId": "7261e8e6-66ba-49e1-e0fb-5dd37e995faf"
      },
      "execution_count": null,
      "outputs": [
        {
          "output_type": "stream",
          "name": "stdout",
          "text": [
            "Digite um numero inteiro: 20\n",
            "Digite um numero real: 20.45\n",
            "Os numeros digitados foram: 20 e 20.45 \n"
          ]
        }
      ]
    },
    {
      "cell_type": "code",
      "source": [
        "# 8. Escreva um programa que solicite ao usuário a primeira letra de seu nome e ao final\n",
        "#    apresente na tela a letra informada pelo usuário da seguinte forma: \"Voce digitou w\"\n",
        "\n",
        "letra = str(input(\"Digite a 1° letra do seu nome: \"))\n",
        "print(\"Você digitou: \", letra)"
      ],
      "metadata": {
        "colab": {
          "base_uri": "https://localhost:8080/"
        },
        "id": "OrsN2uGvuByQ",
        "outputId": "a52fd044-4cae-4674-8233-b190dac25de9"
      },
      "execution_count": null,
      "outputs": [
        {
          "output_type": "stream",
          "name": "stdout",
          "text": [
            "Digite a 1° letra do seu nome: V\n",
            "Você digitou:  V\n"
          ]
        }
      ]
    },
    {
      "cell_type": "code",
      "source": [
        "# 9. Escreva um programa que solicite ao usuário o nome de sua cor preferida e ao final\n",
        "#    apresente na tela a cor informada pelo usuário da seguinte forma: \"Voce gosta da cor AAA\"\n",
        "\n",
        "cor = str(input(\"Digite a sua cor favorita: \"))\n",
        "print(\"Você digitou: \", cor)"
      ],
      "metadata": {
        "colab": {
          "base_uri": "https://localhost:8080/"
        },
        "id": "GyZcKO8Dua17",
        "outputId": "87fdb577-f898-41c6-f4aa-a6b8eeec7ae4"
      },
      "execution_count": null,
      "outputs": [
        {
          "output_type": "stream",
          "name": "stdout",
          "text": [
            "Digite a sua cor favorita: verde\n",
            "Você digitou:  verde\n"
          ]
        }
      ]
    },
    {
      "cell_type": "code",
      "source": [
        "# 10. Escreva um programa que solicite ao usuário o nome de uma verdura e uma fruta de sua\n",
        "#     preferencia e ao final apresente na tela as informações digitadas pelo usuário da seguinte\n",
        "#     forma: \"Voce gosta de AAAAAAA e BBBBBBB\"\n",
        "\n",
        "fruta = str(input(\"Qual sua fruta favorita ?\"))\n",
        "verdura = str(input(\"Qual sua verdura favorita ?\"))\n",
        "print(\"Você gosta de: \", fruta, \" e \", verdura)\n"
      ],
      "metadata": {
        "colab": {
          "base_uri": "https://localhost:8080/"
        },
        "id": "hgGxXZL8uoAP",
        "outputId": "ff2fe724-7089-4a92-a64c-0e3b20c74ac3"
      },
      "execution_count": null,
      "outputs": [
        {
          "output_type": "stream",
          "name": "stdout",
          "text": [
            "Qual sua fruta favorita ?banana\n",
            "Qual sua verdura favorita ?xuxu\n",
            "Você gosta de:  banana xuxu\n"
          ]
        }
      ]
    },
    {
      "cell_type": "code",
      "source": [
        "# 11. Elabore um algoritmo que solicite ao usuário um número real e ao final imprima na tela o\n",
        "#     numero informado e na linha de baixo o dobro deste número da seguinte forma:\n",
        "#     Numero -> X\n",
        "#     Dobro deste numero -> Y\n",
        "\n",
        "numero = float(input(\"Digite um numero real: \"))\n",
        "dobro = numero*2\n",
        "print(\"O numero digitado foi: \", numero, \"\\nO dobro dele é: \", dobro)"
      ],
      "metadata": {
        "colab": {
          "base_uri": "https://localhost:8080/"
        },
        "id": "ELfw2rSdvRMp",
        "outputId": "c43177e6-310a-4002-eb45-469e3ae52db9"
      },
      "execution_count": null,
      "outputs": [
        {
          "output_type": "stream",
          "name": "stdout",
          "text": [
            "Digite um numero real: 20.5\n",
            "O numero digitado foi:  20.5 \n",
            "O dobro dele é:  41.0\n"
          ]
        }
      ]
    },
    {
      "cell_type": "code",
      "source": [
        "# 12. Reescrever o programa anterior apresentando o quadrado e o cubo do número informado\n",
        "\n",
        "numero = float(input(\"Digite um numero real: \"))\n",
        "quadrado = numero * numero\n",
        "cubo = numero * numero * numero\n",
        "print(\"O numero digitado foi: \", numero, \"\\nO quadrado dele é: \", quadrado, \"\\nO cubo dele é: \", cubo)"
      ],
      "metadata": {
        "colab": {
          "base_uri": "https://localhost:8080/"
        },
        "id": "aQJIGYOKwX9C",
        "outputId": "ff76430f-8a27-4c60-a4e2-101388686d9f"
      },
      "execution_count": null,
      "outputs": [
        {
          "output_type": "stream",
          "name": "stdout",
          "text": [
            "Digite um numero real: 20.0\n",
            "O numero digitado foi:  20.0 \n",
            "O quadrado dele é:  400.0 \n",
            "O cubo dele é:  8000.0\n"
          ]
        }
      ]
    },
    {
      "cell_type": "code",
      "source": [
        "# 13. Escreva um programa que solicite ao usuário dois números inteiros e ao final apresente\n",
        "#     na tela a soma dos dois números informados da seguinte forma: \"O numeros N e X\n",
        "#     somados correspondem a Y\"\n",
        "\n",
        "numero1 = int(input(\"Digite um numero inteiro: \"))\n",
        "numero2 = int(input(\"Digite outro numero inteiro: \"))\n",
        "soma = numero1 + numero2\n",
        "print(\"A soma dos numeros digitados é: \", soma)"
      ],
      "metadata": {
        "colab": {
          "base_uri": "https://localhost:8080/",
          "height": 356
        },
        "collapsed": true,
        "id": "homWnttN0FQS",
        "outputId": "e0e5e122-ec6f-4251-fe00-bee3a47e127a"
      },
      "execution_count": null,
      "outputs": [
        {
          "output_type": "error",
          "ename": "KeyboardInterrupt",
          "evalue": "Interrupted by user",
          "traceback": [
            "\u001b[0;31m---------------------------------------------------------------------------\u001b[0m",
            "\u001b[0;31mKeyboardInterrupt\u001b[0m                         Traceback (most recent call last)",
            "\u001b[0;32m/tmp/ipython-input-806727724.py\u001b[0m in \u001b[0;36m<cell line: 0>\u001b[0;34m()\u001b[0m\n\u001b[1;32m      3\u001b[0m \u001b[0;31m#     somados correspondem a Y\"\u001b[0m\u001b[0;34m\u001b[0m\u001b[0;34m\u001b[0m\u001b[0m\n\u001b[1;32m      4\u001b[0m \u001b[0;34m\u001b[0m\u001b[0m\n\u001b[0;32m----> 5\u001b[0;31m \u001b[0mnumero1\u001b[0m \u001b[0;34m=\u001b[0m \u001b[0mint\u001b[0m\u001b[0;34m(\u001b[0m\u001b[0minput\u001b[0m\u001b[0;34m(\u001b[0m\u001b[0;34m\"Digite um numero inteiro: \"\u001b[0m\u001b[0;34m)\u001b[0m\u001b[0;34m)\u001b[0m\u001b[0;34m\u001b[0m\u001b[0;34m\u001b[0m\u001b[0m\n\u001b[0m\u001b[1;32m      6\u001b[0m \u001b[0mnumero2\u001b[0m \u001b[0;34m=\u001b[0m \u001b[0mint\u001b[0m\u001b[0;34m(\u001b[0m\u001b[0minput\u001b[0m\u001b[0;34m(\u001b[0m\u001b[0;34m\"Digite outro numero inteiro: \"\u001b[0m\u001b[0;34m)\u001b[0m\u001b[0;34m)\u001b[0m\u001b[0;34m\u001b[0m\u001b[0;34m\u001b[0m\u001b[0m\n\u001b[1;32m      7\u001b[0m \u001b[0msoma\u001b[0m \u001b[0;34m=\u001b[0m \u001b[0mnumero1\u001b[0m \u001b[0;34m+\u001b[0m \u001b[0mnumero2\u001b[0m\u001b[0;34m\u001b[0m\u001b[0;34m\u001b[0m\u001b[0m\n",
            "\u001b[0;32m/usr/local/lib/python3.12/dist-packages/ipykernel/kernelbase.py\u001b[0m in \u001b[0;36mraw_input\u001b[0;34m(self, prompt)\u001b[0m\n\u001b[1;32m   1175\u001b[0m                 \u001b[0;34m\"raw_input was called, but this frontend does not support input requests.\"\u001b[0m\u001b[0;34m\u001b[0m\u001b[0;34m\u001b[0m\u001b[0m\n\u001b[1;32m   1176\u001b[0m             )\n\u001b[0;32m-> 1177\u001b[0;31m         return self._input_request(\n\u001b[0m\u001b[1;32m   1178\u001b[0m             \u001b[0mstr\u001b[0m\u001b[0;34m(\u001b[0m\u001b[0mprompt\u001b[0m\u001b[0;34m)\u001b[0m\u001b[0;34m,\u001b[0m\u001b[0;34m\u001b[0m\u001b[0;34m\u001b[0m\u001b[0m\n\u001b[1;32m   1179\u001b[0m             \u001b[0mself\u001b[0m\u001b[0;34m.\u001b[0m\u001b[0m_parent_ident\u001b[0m\u001b[0;34m[\u001b[0m\u001b[0;34m\"shell\"\u001b[0m\u001b[0;34m]\u001b[0m\u001b[0;34m,\u001b[0m\u001b[0;34m\u001b[0m\u001b[0;34m\u001b[0m\u001b[0m\n",
            "\u001b[0;32m/usr/local/lib/python3.12/dist-packages/ipykernel/kernelbase.py\u001b[0m in \u001b[0;36m_input_request\u001b[0;34m(self, prompt, ident, parent, password)\u001b[0m\n\u001b[1;32m   1217\u001b[0m             \u001b[0;32mexcept\u001b[0m \u001b[0mKeyboardInterrupt\u001b[0m\u001b[0;34m:\u001b[0m\u001b[0;34m\u001b[0m\u001b[0;34m\u001b[0m\u001b[0m\n\u001b[1;32m   1218\u001b[0m                 \u001b[0;31m# re-raise KeyboardInterrupt, to truncate traceback\u001b[0m\u001b[0;34m\u001b[0m\u001b[0;34m\u001b[0m\u001b[0m\n\u001b[0;32m-> 1219\u001b[0;31m                 \u001b[0;32mraise\u001b[0m \u001b[0mKeyboardInterrupt\u001b[0m\u001b[0;34m(\u001b[0m\u001b[0;34m\"Interrupted by user\"\u001b[0m\u001b[0;34m)\u001b[0m \u001b[0;32mfrom\u001b[0m \u001b[0;32mNone\u001b[0m\u001b[0;34m\u001b[0m\u001b[0;34m\u001b[0m\u001b[0m\n\u001b[0m\u001b[1;32m   1220\u001b[0m             \u001b[0;32mexcept\u001b[0m \u001b[0mException\u001b[0m\u001b[0;34m:\u001b[0m\u001b[0;34m\u001b[0m\u001b[0;34m\u001b[0m\u001b[0m\n\u001b[1;32m   1221\u001b[0m                 \u001b[0mself\u001b[0m\u001b[0;34m.\u001b[0m\u001b[0mlog\u001b[0m\u001b[0;34m.\u001b[0m\u001b[0mwarning\u001b[0m\u001b[0;34m(\u001b[0m\u001b[0;34m\"Invalid Message:\"\u001b[0m\u001b[0;34m,\u001b[0m \u001b[0mexc_info\u001b[0m\u001b[0;34m=\u001b[0m\u001b[0;32mTrue\u001b[0m\u001b[0;34m)\u001b[0m\u001b[0;34m\u001b[0m\u001b[0;34m\u001b[0m\u001b[0m\n",
            "\u001b[0;31mKeyboardInterrupt\u001b[0m: Interrupted by user"
          ]
        }
      ]
    },
    {
      "cell_type": "code",
      "source": [
        "# 14. Escreva um programa que solicite ao usuário dois números reais e ao final apresente na\n",
        "#     tela o produto dos dois números informados da seguinte forma: \"O produto dos numeros N\n",
        "#     e X corresponde a Y\"\n",
        "\n",
        "numero1 = float(input(\"Digite um numero real: \"))\n",
        "numero2 = float(input(\"Digite outro numero real: \"))\n",
        "produto = numero1 * numero2\n",
        "print(\"O produto dos numeros digitados é: \", produto)\n"
      ],
      "metadata": {
        "id": "naDXYJGZ0U_z"
      },
      "execution_count": null,
      "outputs": []
    },
    {
      "cell_type": "code",
      "source": [
        "# 15. Refazer o programa 14 realizando as quatro operações aritméticas básicas\n",
        "\n",
        "numero1 = float(input(\"Digite um numero real: \"))\n",
        "numero2 = float(input(\"Digite outro numero real: \"))\n",
        "soma = numero1 + numero2\n",
        "produto = numero1 * numero2\n",
        "subtracao = numero1 - numero2\n",
        "divisao = numero1 / numero2\n",
        "print(\"A soma dos numeros digitados é: \", soma, \"\\nO produto dos numeros digitados é: \", produto, \"\\nA subtração dos numeros digitados é: \", subtracao, \"\\nA divisão dos numeros digitados é: \", divisao)"
      ],
      "metadata": {
        "colab": {
          "base_uri": "https://localhost:8080/"
        },
        "id": "F5xX8NZA0alj",
        "outputId": "de6914cf-e544-491b-abfd-65435b02914c"
      },
      "execution_count": null,
      "outputs": [
        {
          "output_type": "stream",
          "name": "stdout",
          "text": [
            "Digite um numero real: 20.5\n",
            "Digite outro numero real: 20.5\n",
            "A soma dos numeros digitados é:  41.0 \n",
            "O produto dos numeros digitados é:  420.25 \n",
            "A subtração dos numeros digitados é:  0.0 \n",
            "A divisão dos numeros digitados é:  1.0\n"
          ]
        }
      ]
    }
  ]
}