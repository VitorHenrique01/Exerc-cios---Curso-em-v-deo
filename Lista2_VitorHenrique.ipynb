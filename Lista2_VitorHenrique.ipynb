{
  "nbformat": 4,
  "nbformat_minor": 0,
  "metadata": {
    "colab": {
      "provenance": [],
      "authorship_tag": "ABX9TyPeEcVbJEtbPRznjwYAczv1",
      "include_colab_link": true
    },
    "kernelspec": {
      "name": "python3",
      "display_name": "Python 3"
    },
    "language_info": {
      "name": "python"
    }
  },
  "cells": [
    {
      "cell_type": "markdown",
      "metadata": {
        "id": "view-in-github",
        "colab_type": "text"
      },
      "source": [
        "<a href=\"https://colab.research.google.com/github/VitorHenrique01/Exerc-cios---Curso-em-v-deo/blob/main/Lista2_VitorHenrique.ipynb\" target=\"_parent\"><img src=\"https://colab.research.google.com/assets/colab-badge.svg\" alt=\"Open In Colab\"/></a>"
      ]
    },
    {
      "cell_type": "code",
      "execution_count": 6,
      "metadata": {
        "colab": {
          "base_uri": "https://localhost:8080/"
        },
        "id": "RZ0B6T-3oo2L",
        "outputId": "5b7ba320-9c42-4e67-fada-008c5d523b57"
      },
      "outputs": [
        {
          "output_type": "stream",
          "name": "stdout",
          "text": [
            "Digite um numero 5\n",
            "O numero e menor que 10\n"
          ]
        }
      ],
      "source": [
        "# 1 Elabore um programa que solicite ao usuário um número real e ao final imprima na tela se o\n",
        "# número informado é maior que 10 (dez)\n",
        "\n",
        "numero = float(input(\"Digite um numero \"))\n",
        "if numero > 10 :\n",
        "  print(\"O numero é maior que 10 !!!\")\n",
        "elif numero < 1 :\n",
        "  print(\"Digite um numero maior que 0\")\n",
        "elif numero < 10 :\n",
        "  print(\"O numero e menor que 10\")"
      ]
    },
    {
      "cell_type": "code",
      "source": [],
      "metadata": {
        "id": "thbJLmZ7xGPZ"
      },
      "execution_count": null,
      "outputs": []
    },
    {
      "cell_type": "code",
      "source": [
        "# 2 Escreva um programa que solicite ao usuário um número real e ao final imprima na tela se\n",
        "# o número informado é maior ou igual a dez ou menor que 10 (dez)\n",
        "\n",
        "numero = float(input(\"Digite um numero \"))\n",
        "if numero > 10 :\n",
        "  print(\"O numero é MAIOR que 10 !!!\")\n",
        "elif numero < 1 :\n",
        "  print(\"Digite um numero MAIOR que 0\")\n",
        "elif numero < 10 :\n",
        "  print(\"O numero e MENOR que 10\")\n",
        "elif numero == 10 :\n",
        "  print(\"O numero É 10\")"
      ],
      "metadata": {
        "colab": {
          "base_uri": "https://localhost:8080/"
        },
        "id": "REwpsbW9sNIX",
        "outputId": "d328d850-5ef2-4360-d63f-af388038bd8c"
      },
      "execution_count": 7,
      "outputs": [
        {
          "output_type": "stream",
          "name": "stdout",
          "text": [
            "Digite um numero 10\n",
            "O numero É 10\n"
          ]
        }
      ]
    },
    {
      "cell_type": "code",
      "source": [
        "# 3 Elabore um algoritmo que solicite ao usuário um número real e ao final imprima na tela se o\n",
        "# número informado é maior que dez, se é menor que dez, ou se é igual a dez\n",
        "\n",
        "numero = float(input(\"Digite um numero \"))\n",
        "if numero > 10 :\n",
        "  print(\"O numero é MAIOR que 10 !!!\")\n",
        "elif numero < 1 :\n",
        "  print(\"Digite um numero MAIOR que 0\")\n",
        "elif numero < 10 :\n",
        "  print(\"O numero e MENOR que 10\")\n",
        "elif numero == 10 :\n",
        "  print(\"O numero É 10\")\n",
        "\n"
      ],
      "metadata": {
        "id": "WPetDSDBskn6"
      },
      "execution_count": null,
      "outputs": []
    },
    {
      "cell_type": "code",
      "source": [
        "# 4 Elabore um algoritmo que solicite ao usuário um número real e ao final imprima na tela se o\n",
        "# número informado é positivo, negativo ou nulo (zero)\n",
        "\n",
        "numero = float(input(\"Digite um numero \"))\n",
        "if numero <= -1 :\n",
        "  print(\"O numero é POSITIVO !!!\")\n",
        "elif numero < 1 :\n",
        "  print(\"O numero é NEGATIVO\")\n",
        "elif numero == 0 :\n",
        "  print(\"O numero É NULO\")"
      ],
      "metadata": {
        "colab": {
          "base_uri": "https://localhost:8080/"
        },
        "id": "PjPzsjKTsz1j",
        "outputId": "ab90dd5d-eb6c-44dc-d589-e0d1e8d17cb9"
      },
      "execution_count": 16,
      "outputs": [
        {
          "output_type": "stream",
          "name": "stdout",
          "text": [
            "Digite um numero 0\n",
            "O numero é NEGATIVO\n"
          ]
        }
      ]
    },
    {
      "cell_type": "code",
      "source": [
        "# 5 Elabore um algoritmo que leia um número inteiro e imprima uma das mensagens: é múltiplo\n",
        "# de 3, ou, não é múltiplo de 3\n",
        "\n",
        "numero = float(input(\"Digite um numero\"))\n",
        "if numero % 3 == 0:\n",
        "  print(\"O numero É multiplo de 3\")\n",
        "elif numero % 3 != 0:\n",
        "  print(\"O numero NAO é multiplo de 3\")"
      ],
      "metadata": {
        "colab": {
          "base_uri": "https://localhost:8080/"
        },
        "id": "sixDwOsPueHZ",
        "outputId": "8644014f-dc92-44d0-8138-412d6cf89eee"
      },
      "execution_count": 19,
      "outputs": [
        {
          "output_type": "stream",
          "name": "stdout",
          "text": [
            "Digite um numero5\n",
            "O numero NAO é multiplo de 3\n"
          ]
        }
      ]
    },
    {
      "cell_type": "code",
      "source": [
        "# 6 Refazer o exercício anterior, solicitando antes o múltiplo a ser testado\n",
        "\n",
        "\n",
        "numero = float(input(\"Digite um numero \"))\n",
        "multiplo = float(input(\"Digite um multiplo \"))\n",
        "if numero % multiplo == 0:\n",
        "  print(\"O numero digitado É multiplo de \", multiplo)\n",
        "elif numero % multiplo != 0:\n",
        "  print(\"O numero digitado NAO é multiplo de \", multiplo)"
      ],
      "metadata": {
        "colab": {
          "base_uri": "https://localhost:8080/"
        },
        "id": "G4LCrBYyvRbb",
        "outputId": "4cd1624c-9d7f-48c7-d32b-d8d24ce59781"
      },
      "execution_count": 21,
      "outputs": [
        {
          "output_type": "stream",
          "name": "stdout",
          "text": [
            "Digite um numero 30\n",
            "Digite um multiplo 3\n",
            "O numero É multiplo  3.0\n"
          ]
        }
      ]
    },
    {
      "cell_type": "code",
      "source": [
        "# 7 Desenvolva um algoritmo que classifique um número inteiro fornecido pelo usuário como\n",
        "# par ou ímpar\n",
        "\n",
        "numero = float(input(\"Digite um numero \"))\n",
        "if numero % 2 == 0:\n",
        "  print(\"O numero digitado é PAR\")\n",
        "elif numero % 2 != 0:\n",
        "  print(\"O numero digitado é IMPAR\")"
      ],
      "metadata": {
        "colab": {
          "base_uri": "https://localhost:8080/"
        },
        "id": "xCzFVkCUwDRX",
        "outputId": "4c7171dc-4217-490a-d01c-0418cff91d97"
      },
      "execution_count": 22,
      "outputs": [
        {
          "output_type": "stream",
          "name": "stdout",
          "text": [
            "Digite um numero 20\n",
            "O numero digitado é PAR\n"
          ]
        }
      ]
    },
    {
      "cell_type": "code",
      "source": [
        "# 8. Elabore um algoritmo que leia um número, e se ele for maior do que 20, imprimir a metade\n",
        "# desse número, caso contrário, imprimir o dobro do número\n",
        "\n",
        "numero = float(input(\"Digite um numero \"))\n",
        "if numero"
      ],
      "metadata": {
        "id": "wMYTJ80RxHSQ"
      },
      "execution_count": null,
      "outputs": []
    },
    {
      "cell_type": "markdown",
      "source": [],
      "metadata": {
        "id": "xXueksFTsoj7"
      }
    }
  ]
}